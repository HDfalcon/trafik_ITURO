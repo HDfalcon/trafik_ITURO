{
 "cells": [
  {
   "cell_type": "code",
   "execution_count": 1,
   "id": "bea2c6b0",
   "metadata": {},
   "outputs": [],
   "source": [
    "import cv2 \n",
    "import numpy as np\n",
    "import matplotlib.pyplot as plt"
   ]
  },
  {
   "cell_type": "code",
   "execution_count": 135,
   "id": "6d6455f0",
   "metadata": {},
   "outputs": [],
   "source": [
    "def stretch(img):\n",
    "#returns stretched img and box of the original img relative to the stretched img\n",
    "    h=img.shape[0]\n",
    "    w=img.shape[1]\n",
    "    x1,x2,y1,y2=np.random.randint(0,min(h,w)/4,4)\n",
    "    c=np.random.randint(0,255)\n",
    "    x=(x1+(w-x1-x2)/2)/w\n",
    "    y=(y1+(h-y1-y2)/2)/h\n",
    "    nw=(w-x1-x2)/w\n",
    "    nh=(h-y1-y2)/h\n",
    "    return cv2.copyMakeBorder(cv2.resize(img,(w-x1-x2,h-y1-y2)),y1,y2,x1,x2,cv2.BORDER_CONSTANT,value=(c,c,c)),x,y,nw,nh"
   ]
  },
  {
   "cell_type": "code",
   "execution_count": 136,
   "id": "2cbd6a07",
   "metadata": {},
   "outputs": [],
   "source": [
    "def addnoise(img):\n",
    "#returns grayscale img with random boxes, circles and gaussian noise\n",
    "    h=img.shape[0]\n",
    "    w=img.shape[1]\n",
    "    for i in range(np.random.randint(5)) :\n",
    "        if np.random.randint(2) :\n",
    "            tx,bx=np.random.randint(0,w,2)\n",
    "            ty,by=np.random.randint(0,h,2)\n",
    "            c=np.random.randint(0,256)\n",
    "            img1=cv2.rectangle(img,(min(bx,tx),min(by,ty)),(max(tx,bx),max(by,ty)),(c,c,c),2)\n",
    "        else :\n",
    "            ox=np.random.randint(0,w)\n",
    "            oy=np.random.randint(0,h)\n",
    "            r=np.random.randint(0,min(w,h)/2)\n",
    "            c=np.random.randint(0,256)\n",
    "            img1=cv2.circle(img,(ox,oy),r,(c,c,c),2)\n",
    "    noise = np.zeros(img.shape, np.uint8)\n",
    "    cv2.randn(noise, 0,180)\n",
    "    return cv2.cvtColor(cv2.cvtColor(cv2.add(img,noise),cv2.COLOR_BGR2GRAY),cv2.COLOR_BGR2RGB)"
   ]
  },
  {
   "cell_type": "code",
   "execution_count": 137,
   "id": "6a998d84",
   "metadata": {},
   "outputs": [],
   "source": [
    "def generatedata(testnum,valnum,imgdict,directory):\n",
    "#saves and labels images in the given directory given number of times\n",
    "    for i in range(testnum):\n",
    "        for j in imgdict:\n",
    "            newimg,x,y,w,h=stretch(imgdict[j])\n",
    "            plt.imsave(directory+\"\\\\images\\\\train\\\\{}_{}.jpg\".format(j,i),addnoise(newimg),format=\"jpg\")\n",
    "            with open(directory+\"\\\\labels\\\\train\\\\{}_{}.txt\".format(j,i),\"w\") as file :\n",
    "                file.write(\"{} {} {} {} {}\".format(j,x,y,w,h))\n",
    "    for i in range(valnum):\n",
    "        for j in imgdict:\n",
    "            newimg,x,y,w,h=stretch(imgdict[j])\n",
    "            plt.imsave(directory+\"\\\\images\\\\val\\\\{}_{}.jpg\".format(j,i),addnoise(newimg),format=\"jpg\")\n",
    "            with open(directory+\"\\\\labels\\\\val\\\\{}_{}.txt\".format(j,i),\"w\") as file :\n",
    "                file.write(\"{} {} {} {} {}\".format(j,x,y,w,h))"
   ]
  },
  {
   "cell_type": "code",
   "execution_count": 138,
   "id": "9163f00c",
   "metadata": {},
   "outputs": [],
   "source": [
    "#example\n",
    "img1=cv2.imread(\"steve-jobs.jpg\")\n",
    "img2=cv2.imread(\"indir.png\")\n",
    "generatedata(2,3,{\"0\":img1,\"1\":img2},\"C:\\\\Users\\\\hp\\\\datasets1\\\\denemedata\")"
   ]
  }
 ],
 "metadata": {
  "kernelspec": {
   "display_name": "Python 3 (ipykernel)",
   "language": "python",
   "name": "python3"
  },
  "language_info": {
   "codemirror_mode": {
    "name": "ipython",
    "version": 3
   },
   "file_extension": ".py",
   "mimetype": "text/x-python",
   "name": "python",
   "nbconvert_exporter": "python",
   "pygments_lexer": "ipython3",
   "version": "3.11.5"
  }
 },
 "nbformat": 4,
 "nbformat_minor": 5
}
